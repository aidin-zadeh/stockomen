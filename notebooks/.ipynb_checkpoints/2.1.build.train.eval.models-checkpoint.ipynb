{
 "cells": [
  {
   "cell_type": "markdown",
   "metadata": {},
   "source": [
    "## Import dependecies\n",
    "Import modules for"
   ]
  },
  {
   "cell_type": "code",
   "execution_count": 1,
   "metadata": {},
   "outputs": [],
   "source": [
    "import os, inspect, sys\n",
    "import numpy as np\n",
    "import pandas as pd\n",
    "import matplotlib.pyplot as plt\n",
    "import plotly.offline as ply\n",
    "import plotly.graph_objs as go\n",
    "import plotly.tools as tls"
   ]
  },
  {
   "cell_type": "code",
   "execution_count": 2,
   "metadata": {},
   "outputs": [],
   "source": [
    "from sklearn.pipeline import Pipeline\n",
    "from sklearn.preprocessing import StandardScaler, RobustScaler\n",
    "from sklearn.linear_model import LogisticRegression\n",
    "from sklearn.tree import DecisionTreeClassifier\n",
    "from sklearn.neighbors import KNeighborsClassifier\n",
    "from sklearn.discriminant_analysis import LinearDiscriminantAnalysis\n",
    "from sklearn.naive_bayes import GaussianNB\n",
    "from sklearn.svm import SVC\n",
    "from sklearn.ensemble import (\n",
    "    AdaBoostClassifier,\n",
    "    GradientBoostingClassifier,\n",
    "    RandomForestClassifier,\n",
    "    ExtraTreesClassifier\n",
    ")\n",
    "from sklearn.metrics import (\n",
    "    classification_report,\n",
    "    confusion_matrix,\n",
    "    accuracy_score,\n",
    "    mean_squared_error,\n",
    "    roc_curve,\n",
    "    auc,\n",
    ")\n",
    "import matplotlib.pyplot as plt\n",
    "\n",
    "from statsmodels.graphics.tsaplots import plot_acf, plot_pacf\n",
    "from statsmodels.tsa.arima_model import ARIMA\n",
    "from xgboost import XGBClassifier"
   ]
  },
  {
   "cell_type": "code",
   "execution_count": 3,
   "metadata": {},
   "outputs": [],
   "source": [
    "# get project root directory\n",
    "curr_dir = os.path.dirname(inspect.getabsfile(inspect.currentframe()))\n",
    "root_dir = os.path.dirname(curr_dir)\n",
    "sys.path.insert(0, 0)"
   ]
  },
  {
   "cell_type": "markdown",
   "metadata": {},
   "source": [
    "## Load data\n",
    "We load the stock datasets to a pandas dataframe:"
   ]
  },
  {
   "cell_type": "code",
   "execution_count": 4,
   "metadata": {},
   "outputs": [
    {
     "data": {
      "text/html": [
       "<div>\n",
       "<style scoped>\n",
       "    .dataframe tbody tr th:only-of-type {\n",
       "        vertical-align: middle;\n",
       "    }\n",
       "\n",
       "    .dataframe tbody tr th {\n",
       "        vertical-align: top;\n",
       "    }\n",
       "\n",
       "    .dataframe thead th {\n",
       "        text-align: right;\n",
       "    }\n",
       "</style>\n",
       "<table border=\"1\" class=\"dataframe\">\n",
       "  <thead>\n",
       "    <tr style=\"text-align: right;\">\n",
       "      <th></th>\n",
       "      <th>Date</th>\n",
       "      <th>Subjectivity</th>\n",
       "      <th>Objectivity</th>\n",
       "      <th>Positive</th>\n",
       "      <th>Negative</th>\n",
       "      <th>Neutral</th>\n",
       "      <th>Open</th>\n",
       "      <th>High</th>\n",
       "      <th>Low</th>\n",
       "      <th>Close</th>\n",
       "      <th>Volume</th>\n",
       "      <th>Adj Close</th>\n",
       "      <th>Month</th>\n",
       "      <th>Quarter</th>\n",
       "      <th>Label</th>\n",
       "    </tr>\n",
       "  </thead>\n",
       "  <tbody>\n",
       "    <tr>\n",
       "      <th>0</th>\n",
       "      <td>2008-08-08</td>\n",
       "      <td>75.000000</td>\n",
       "      <td>25.000000</td>\n",
       "      <td>18.750000</td>\n",
       "      <td>56.250000</td>\n",
       "      <td>25.000000</td>\n",
       "      <td>11432.089844</td>\n",
       "      <td>11759.959961</td>\n",
       "      <td>11388.040039</td>\n",
       "      <td>11734.320312</td>\n",
       "      <td>212830000.0</td>\n",
       "      <td>11734.320312</td>\n",
       "      <td>8.0</td>\n",
       "      <td>3.0</td>\n",
       "      <td>0</td>\n",
       "    </tr>\n",
       "    <tr>\n",
       "      <th>1</th>\n",
       "      <td>2008-08-11</td>\n",
       "      <td>83.333333</td>\n",
       "      <td>16.666667</td>\n",
       "      <td>41.666667</td>\n",
       "      <td>41.666667</td>\n",
       "      <td>16.666667</td>\n",
       "      <td>11729.669922</td>\n",
       "      <td>11867.110352</td>\n",
       "      <td>11675.530273</td>\n",
       "      <td>11782.349609</td>\n",
       "      <td>183190000.0</td>\n",
       "      <td>11782.349609</td>\n",
       "      <td>8.0</td>\n",
       "      <td>3.0</td>\n",
       "      <td>1</td>\n",
       "    </tr>\n",
       "    <tr>\n",
       "      <th>2</th>\n",
       "      <td>2008-08-12</td>\n",
       "      <td>56.250000</td>\n",
       "      <td>43.750000</td>\n",
       "      <td>18.750000</td>\n",
       "      <td>37.500000</td>\n",
       "      <td>43.750000</td>\n",
       "      <td>11781.700195</td>\n",
       "      <td>11782.349609</td>\n",
       "      <td>11601.519531</td>\n",
       "      <td>11642.469727</td>\n",
       "      <td>173590000.0</td>\n",
       "      <td>11642.469727</td>\n",
       "      <td>8.0</td>\n",
       "      <td>3.0</td>\n",
       "      <td>0</td>\n",
       "    </tr>\n",
       "    <tr>\n",
       "      <th>3</th>\n",
       "      <td>2008-08-13</td>\n",
       "      <td>38.461538</td>\n",
       "      <td>61.538462</td>\n",
       "      <td>15.384615</td>\n",
       "      <td>23.076923</td>\n",
       "      <td>61.538462</td>\n",
       "      <td>11632.809570</td>\n",
       "      <td>11633.780273</td>\n",
       "      <td>11453.339844</td>\n",
       "      <td>11532.959961</td>\n",
       "      <td>182550000.0</td>\n",
       "      <td>11532.959961</td>\n",
       "      <td>8.0</td>\n",
       "      <td>3.0</td>\n",
       "      <td>0</td>\n",
       "    </tr>\n",
       "    <tr>\n",
       "      <th>4</th>\n",
       "      <td>2008-08-14</td>\n",
       "      <td>45.454545</td>\n",
       "      <td>54.545455</td>\n",
       "      <td>36.363636</td>\n",
       "      <td>9.090909</td>\n",
       "      <td>54.545455</td>\n",
       "      <td>11532.070312</td>\n",
       "      <td>11718.280273</td>\n",
       "      <td>11450.889648</td>\n",
       "      <td>11615.929688</td>\n",
       "      <td>159790000.0</td>\n",
       "      <td>11615.929688</td>\n",
       "      <td>8.0</td>\n",
       "      <td>3.0</td>\n",
       "      <td>1</td>\n",
       "    </tr>\n",
       "  </tbody>\n",
       "</table>\n",
       "</div>"
      ],
      "text/plain": [
       "         Date  Subjectivity  Objectivity   Positive   Negative    Neutral  \\\n",
       "0  2008-08-08     75.000000    25.000000  18.750000  56.250000  25.000000   \n",
       "1  2008-08-11     83.333333    16.666667  41.666667  41.666667  16.666667   \n",
       "2  2008-08-12     56.250000    43.750000  18.750000  37.500000  43.750000   \n",
       "3  2008-08-13     38.461538    61.538462  15.384615  23.076923  61.538462   \n",
       "4  2008-08-14     45.454545    54.545455  36.363636   9.090909  54.545455   \n",
       "\n",
       "           Open          High           Low         Close       Volume  \\\n",
       "0  11432.089844  11759.959961  11388.040039  11734.320312  212830000.0   \n",
       "1  11729.669922  11867.110352  11675.530273  11782.349609  183190000.0   \n",
       "2  11781.700195  11782.349609  11601.519531  11642.469727  173590000.0   \n",
       "3  11632.809570  11633.780273  11453.339844  11532.959961  182550000.0   \n",
       "4  11532.070312  11718.280273  11450.889648  11615.929688  159790000.0   \n",
       "\n",
       "      Adj Close  Month  Quarter  Label  \n",
       "0  11734.320312    8.0      3.0      0  \n",
       "1  11782.349609    8.0      3.0      1  \n",
       "2  11642.469727    8.0      3.0      0  \n",
       "3  11532.959961    8.0      3.0      0  \n",
       "4  11615.929688    8.0      3.0      1  "
      ]
     },
     "execution_count": 4,
     "metadata": {},
     "output_type": "execute_result"
    }
   ],
   "source": [
    "# load data\n",
    "fname = os.path.join(root_dir, \"stockomen\", \"data\", \"int\", \"stock.csv\")\n",
    "df = pd.read_csv(fname, index_col=False)\n",
    "df.head(5)"
   ]
  },
  {
   "cell_type": "markdown",
   "metadata": {},
   "source": [
    "##  Fill missing values (the NaN values) with the column mean"
   ]
  },
  {
   "cell_type": "code",
   "execution_count": 5,
   "metadata": {},
   "outputs": [],
   "source": [
    "nan_list = ['Subjectivity', 'Objectivity', 'Positive', 'Negative', 'Neutral']\n",
    "for col in nan_list:\n",
    "    df[col] = df[col].fillna(df[col].mean())"
   ]
  },
  {
   "cell_type": "code",
   "execution_count": 6,
   "metadata": {},
   "outputs": [
    {
     "name": "stdout",
     "output_type": "stream",
     "text": [
      "Date            1989\n",
      "Subjectivity    1989\n",
      "Objectivity     1989\n",
      "Positive        1989\n",
      "Negative        1989\n",
      "Neutral         1989\n",
      "Open            1989\n",
      "High            1989\n",
      "Low             1989\n",
      "Close           1989\n",
      "Volume          1989\n",
      "Adj Close       1989\n",
      "Month           1989\n",
      "Quarter         1989\n",
      "Label           1989\n",
      "dtype: int64\n"
     ]
    }
   ],
   "source": [
    "# Recheck the count\n",
    "print(df.count())"
   ]
  },
  {
   "cell_type": "markdown",
   "metadata": {},
   "source": [
    "# Prepare train data"
   ]
  },
  {
   "cell_type": "code",
   "execution_count": 7,
   "metadata": {},
   "outputs": [
    {
     "data": {
      "text/html": [
       "<div>\n",
       "<style scoped>\n",
       "    .dataframe tbody tr th:only-of-type {\n",
       "        vertical-align: middle;\n",
       "    }\n",
       "\n",
       "    .dataframe tbody tr th {\n",
       "        vertical-align: top;\n",
       "    }\n",
       "\n",
       "    .dataframe thead th {\n",
       "        text-align: right;\n",
       "    }\n",
       "</style>\n",
       "<table border=\"1\" class=\"dataframe\">\n",
       "  <thead>\n",
       "    <tr style=\"text-align: right;\">\n",
       "      <th></th>\n",
       "      <th>Subjectivity</th>\n",
       "      <th>Objectivity</th>\n",
       "      <th>Positive</th>\n",
       "      <th>Negative</th>\n",
       "      <th>Neutral</th>\n",
       "      <th>Open</th>\n",
       "      <th>High</th>\n",
       "      <th>Low</th>\n",
       "      <th>Close</th>\n",
       "      <th>Volume</th>\n",
       "      <th>Adj Close</th>\n",
       "      <th>Month</th>\n",
       "      <th>Quarter</th>\n",
       "    </tr>\n",
       "  </thead>\n",
       "  <tbody>\n",
       "    <tr>\n",
       "      <th>0</th>\n",
       "      <td>75.000000</td>\n",
       "      <td>25.000000</td>\n",
       "      <td>18.750000</td>\n",
       "      <td>56.250000</td>\n",
       "      <td>25.000000</td>\n",
       "      <td>11432.089844</td>\n",
       "      <td>11759.959961</td>\n",
       "      <td>11388.040039</td>\n",
       "      <td>11734.320312</td>\n",
       "      <td>212830000.0</td>\n",
       "      <td>11734.320312</td>\n",
       "      <td>8.0</td>\n",
       "      <td>3.0</td>\n",
       "    </tr>\n",
       "    <tr>\n",
       "      <th>1</th>\n",
       "      <td>83.333333</td>\n",
       "      <td>16.666667</td>\n",
       "      <td>41.666667</td>\n",
       "      <td>41.666667</td>\n",
       "      <td>16.666667</td>\n",
       "      <td>11729.669922</td>\n",
       "      <td>11867.110352</td>\n",
       "      <td>11675.530273</td>\n",
       "      <td>11782.349609</td>\n",
       "      <td>183190000.0</td>\n",
       "      <td>11782.349609</td>\n",
       "      <td>8.0</td>\n",
       "      <td>3.0</td>\n",
       "    </tr>\n",
       "    <tr>\n",
       "      <th>2</th>\n",
       "      <td>56.250000</td>\n",
       "      <td>43.750000</td>\n",
       "      <td>18.750000</td>\n",
       "      <td>37.500000</td>\n",
       "      <td>43.750000</td>\n",
       "      <td>11781.700195</td>\n",
       "      <td>11782.349609</td>\n",
       "      <td>11601.519531</td>\n",
       "      <td>11642.469727</td>\n",
       "      <td>173590000.0</td>\n",
       "      <td>11642.469727</td>\n",
       "      <td>8.0</td>\n",
       "      <td>3.0</td>\n",
       "    </tr>\n",
       "    <tr>\n",
       "      <th>3</th>\n",
       "      <td>38.461538</td>\n",
       "      <td>61.538462</td>\n",
       "      <td>15.384615</td>\n",
       "      <td>23.076923</td>\n",
       "      <td>61.538462</td>\n",
       "      <td>11632.809570</td>\n",
       "      <td>11633.780273</td>\n",
       "      <td>11453.339844</td>\n",
       "      <td>11532.959961</td>\n",
       "      <td>182550000.0</td>\n",
       "      <td>11532.959961</td>\n",
       "      <td>8.0</td>\n",
       "      <td>3.0</td>\n",
       "    </tr>\n",
       "    <tr>\n",
       "      <th>4</th>\n",
       "      <td>45.454545</td>\n",
       "      <td>54.545455</td>\n",
       "      <td>36.363636</td>\n",
       "      <td>9.090909</td>\n",
       "      <td>54.545455</td>\n",
       "      <td>11532.070312</td>\n",
       "      <td>11718.280273</td>\n",
       "      <td>11450.889648</td>\n",
       "      <td>11615.929688</td>\n",
       "      <td>159790000.0</td>\n",
       "      <td>11615.929688</td>\n",
       "      <td>8.0</td>\n",
       "      <td>3.0</td>\n",
       "    </tr>\n",
       "  </tbody>\n",
       "</table>\n",
       "</div>"
      ],
      "text/plain": [
       "   Subjectivity  Objectivity   Positive   Negative    Neutral          Open  \\\n",
       "0     75.000000    25.000000  18.750000  56.250000  25.000000  11432.089844   \n",
       "1     83.333333    16.666667  41.666667  41.666667  16.666667  11729.669922   \n",
       "2     56.250000    43.750000  18.750000  37.500000  43.750000  11781.700195   \n",
       "3     38.461538    61.538462  15.384615  23.076923  61.538462  11632.809570   \n",
       "4     45.454545    54.545455  36.363636   9.090909  54.545455  11532.070312   \n",
       "\n",
       "           High           Low         Close       Volume     Adj Close  Month  \\\n",
       "0  11759.959961  11388.040039  11734.320312  212830000.0  11734.320312    8.0   \n",
       "1  11867.110352  11675.530273  11782.349609  183190000.0  11782.349609    8.0   \n",
       "2  11782.349609  11601.519531  11642.469727  173590000.0  11642.469727    8.0   \n",
       "3  11633.780273  11453.339844  11532.959961  182550000.0  11532.959961    8.0   \n",
       "4  11718.280273  11450.889648  11615.929688  159790000.0  11615.929688    8.0   \n",
       "\n",
       "   Quarter  \n",
       "0      3.0  \n",
       "1      3.0  \n",
       "2      3.0  \n",
       "3      3.0  \n",
       "4      3.0  "
      ]
     },
     "execution_count": 7,
     "metadata": {},
     "output_type": "execute_result"
    }
   ],
   "source": [
    "x = df.loc[:, [\"Subjectivity\", \n",
    "               \"Objectivity\",\n",
    "               \"Positive\",\n",
    "               \"Negative\",\n",
    "               \"Neutral\",\n",
    "               \"Open\",\n",
    "               \"High\",\n",
    "               \"Low\",\n",
    "               \"Close\",\n",
    "               \"Volume\",\n",
    "               \"Adj Close\",\n",
    "               \"Month\",\n",
    "               \"Quarter\"]]\n",
    "y = df.loc[:,'Label']\n",
    "x.head()"
   ]
  },
  {
   "cell_type": "code",
   "execution_count": 8,
   "metadata": {},
   "outputs": [
    {
     "name": "stdout",
     "output_type": "stream",
     "text": [
      "data:  (1989, 13) labels:  (1989,)\n",
      "train data:  (1393, 13) train labels:  (1393,)\n",
      "test data:  (597, 13) test labels:  (597,)\n"
     ]
    }
   ],
   "source": [
    "# set valid ratio wrt the number of train data\n",
    "valid_size = 0.2\n",
    "# set test ratio wrt to the number of data\n",
    "test_size = 0.3\n",
    "# rescale data\n",
    "# scaler = StandardScaler().fit(x)\n",
    "scaler = RobustScaler().fit(x)\n",
    "x_scaled = scaler.transform(x)\n",
    "n_x = len(x.index)\n",
    "n_train = int(len(x.index) * 0.7)\n",
    "x_train, x_test = x_scaled[0:n_train+1, :], x_scaled[n_train: n_x, :]\n",
    "y_train, y_test = y[0:n_train+1], y[n_train: n_x]\n",
    "print(\"data: \", x.shape, \"labels: \", y.shape )\n",
    "print(\"train data: \", x_train.shape, \"train labels: \", y_train.shape )\n",
    "print(\"test data: \", x_test.shape, \"test labels: \", y_test.shape )"
   ]
  },
  {
   "cell_type": "code",
   "execution_count": 9,
   "metadata": {},
   "outputs": [],
   "source": [
    "# plt.plot(X_train['Objectivity'])\n",
    "# plt.plot([None for i in x_train['Objectivity']] + [x for x in x_test['Objectivity']])\n",
    "# plt.show()"
   ]
  },
  {
   "cell_type": "code",
   "execution_count": 10,
   "metadata": {},
   "outputs": [],
   "source": [
    "# set train params\n",
    "num_folds = 10\n",
    "scoring = 'accuracy'"
   ]
  },
  {
   "cell_type": "code",
   "execution_count": 11,
   "metadata": {},
   "outputs": [],
   "source": [
    "# define training models\n",
    "models = {}\n",
    "models.update({'LR': LogisticRegression()})\n",
    "models.update({'LDA': LinearDiscriminantAnalysis()})\n",
    "models.update({'KNN': KNeighborsClassifier()})\n",
    "models.update({'CART': DecisionTreeClassifier()})\n",
    "models.update({'NB': GaussianNB()})\n",
    "models.update({'SVM': SVC()})\n",
    "models.update({'RF': RandomForestClassifier(n_estimators=50)})\n",
    "models.update({'XGBoost': XGBClassifier()})\n",
    "models.update({'LDA': LinearDiscriminantAnalysis()})"
   ]
  },
  {
   "cell_type": "code",
   "execution_count": 12,
   "metadata": {},
   "outputs": [
    {
     "data": {
      "text/plain": [
       "(1393, 13)"
      ]
     },
     "execution_count": 12,
     "metadata": {},
     "output_type": "execute_result"
    }
   ],
   "source": [
    "x_train.shape"
   ]
  },
  {
   "cell_type": "code",
   "execution_count": 13,
   "metadata": {},
   "outputs": [
    {
     "name": "stdout",
     "output_type": "stream",
     "text": [
      "LR: 0.7520938023450586\n",
      "LDA: 0.9447236180904522\n",
      "KNN: 0.5175879396984925\n",
      "CART: 0.5728643216080402\n",
      "NB: 0.507537688442211\n"
     ]
    },
    {
     "name": "stderr",
     "output_type": "stream",
     "text": [
      "/home/aidin/miniconda3/envs/test/lib/python3.6/site-packages/sklearn/linear_model/logistic.py:432: FutureWarning:\n",
      "\n",
      "Default solver will be changed to 'lbfgs' in 0.22. Specify a solver to silence this warning.\n",
      "\n",
      "/home/aidin/miniconda3/envs/test/lib/python3.6/site-packages/sklearn/discriminant_analysis.py:388: UserWarning:\n",
      "\n",
      "Variables are collinear.\n",
      "\n",
      "/home/aidin/miniconda3/envs/test/lib/python3.6/site-packages/sklearn/svm/base.py:196: FutureWarning:\n",
      "\n",
      "The default value of gamma will change from 'auto' to 'scale' in version 0.22 to account better for unscaled features. Set gamma explicitly to 'auto' or 'scale' to avoid this warning.\n",
      "\n"
     ]
    },
    {
     "name": "stdout",
     "output_type": "stream",
     "text": [
      "SVM: 0.541038525963149\n",
      "RF: 0.5628140703517588\n",
      "XGBoost: 0.576214405360134\n"
     ]
    }
   ],
   "source": [
    "# train models\n",
    "results = []\n",
    "names = []\n",
    "for name, model in models.items():\n",
    "    clf = model\n",
    "    clf.fit(x_train, y_train)\n",
    "    y_pred = clf.predict(x_test)\n",
    "    accu_score = accuracy_score(y_test, y_pred)\n",
    "    print(name + \": \" + str(accu_score))"
   ]
  },
  {
   "cell_type": "code",
   "execution_count": 14,
   "metadata": {},
   "outputs": [],
   "source": [
    "# Explore featurs"
   ]
  },
  {
   "cell_type": "code",
   "execution_count": 15,
   "metadata": {},
   "outputs": [
    {
     "data": {
      "text/html": [
       "<script>requirejs.config({paths: { 'plotly': ['https://cdn.plot.ly/plotly-latest.min']},});if(!window.Plotly) {{require(['plotly'],function(plotly) {window.Plotly=plotly;});}}</script>"
      ],
      "text/vnd.plotly.v1+html": [
       "<script>requirejs.config({paths: { 'plotly': ['https://cdn.plot.ly/plotly-latest.min']},});if(!window.Plotly) {{require(['plotly'],function(plotly) {window.Plotly=plotly;});}}</script>"
      ]
     },
     "metadata": {},
     "output_type": "display_data"
    },
    {
     "data": {
      "application/vnd.plotly.v1+json": {
       "data": [
        {
         "marker": {
          "color": [
           0,
           0,
           0,
           0,
           0.0017513134516775608,
           0.017513135448098183,
           0.03677758201956749,
           0.050788089632987976,
           0.061295971274375916,
           0.0753064826130867,
           0.09106829762458801,
           0.31348511576652527,
           0.3520140051841736
          ],
          "colorscale": "Viridis",
          "reversescale": true
         },
         "name": "Feature importance for XGBoost",
         "orientation": "h",
         "type": "bar",
         "uid": "90ecfe0a-c4c5-11e8-afff-abf58a8e7b69",
         "x": [
          0,
          0,
          0,
          0,
          0.0017513134516775608,
          0.017513135448098183,
          0.03677758201956749,
          0.050788089632987976,
          0.061295971274375916,
          0.0753064826130867,
          0.09106829762458801,
          0.31348511576652527,
          0.3520140051841736
         ],
         "y": [
          "Adj Close",
          "Neutral",
          "Objectivity",
          "Quarter",
          "Low",
          "High",
          "Month",
          "Subjectivity",
          "Negative",
          "Positive",
          "Volume",
          "Open",
          "Close"
         ]
        }
       ],
       "layout": {
        "height": 1000,
        "title": "Barplot of Feature importances for XGBoost",
        "width": 1000,
        "yaxis": {
         "showgrid": false,
         "showline": false,
         "showticklabels": true
        }
       }
      },
      "text/html": [
       "<div id=\"2f5860bc-74d2-4867-a345-cd9f2a3efe29\" style=\"height: 1000px; width: 1000px;\" class=\"plotly-graph-div\"></div><script type=\"text/javascript\">require([\"plotly\"], function(Plotly) { window.PLOTLYENV=window.PLOTLYENV || {};window.PLOTLYENV.BASE_URL=\"https://plot.ly\";Plotly.newPlot(\"2f5860bc-74d2-4867-a345-cd9f2a3efe29\", [{\"marker\": {\"color\": [0.0, 0.0, 0.0, 0.0, 0.0017513134516775608, 0.017513135448098183, 0.03677758201956749, 0.050788089632987976, 0.061295971274375916, 0.0753064826130867, 0.09106829762458801, 0.31348511576652527, 0.3520140051841736], \"colorscale\": \"Viridis\", \"reversescale\": true}, \"name\": \"Feature importance for XGBoost\", \"orientation\": \"h\", \"x\": [0.0, 0.0, 0.0, 0.0, 0.0017513134516775608, 0.017513135448098183, 0.03677758201956749, 0.050788089632987976, 0.061295971274375916, 0.0753064826130867, 0.09106829762458801, 0.31348511576652527, 0.3520140051841736], \"y\": [\"Adj Close\", \"Neutral\", \"Objectivity\", \"Quarter\", \"Low\", \"High\", \"Month\", \"Subjectivity\", \"Negative\", \"Positive\", \"Volume\", \"Open\", \"Close\"], \"type\": \"bar\", \"uid\": \"90ecfe0a-c4c5-11e8-afff-abf58a8e7b69\"}], {\"yaxis\": {\"showgrid\": false, \"showline\": false, \"showticklabels\": true}, \"title\": \"Barplot of Feature importances for XGBoost\", \"width\": 1000, \"height\": 1000}, {\"showLink\": true, \"linkText\": \"Export to plot.ly\"})});</script>"
      ],
      "text/vnd.plotly.v1+html": [
       "<div id=\"2f5860bc-74d2-4867-a345-cd9f2a3efe29\" style=\"height: 1000px; width: 1000px;\" class=\"plotly-graph-div\"></div><script type=\"text/javascript\">require([\"plotly\"], function(Plotly) { window.PLOTLYENV=window.PLOTLYENV || {};window.PLOTLYENV.BASE_URL=\"https://plot.ly\";Plotly.newPlot(\"2f5860bc-74d2-4867-a345-cd9f2a3efe29\", [{\"marker\": {\"color\": [0.0, 0.0, 0.0, 0.0, 0.0017513134516775608, 0.017513135448098183, 0.03677758201956749, 0.050788089632987976, 0.061295971274375916, 0.0753064826130867, 0.09106829762458801, 0.31348511576652527, 0.3520140051841736], \"colorscale\": \"Viridis\", \"reversescale\": true}, \"name\": \"Feature importance for XGBoost\", \"orientation\": \"h\", \"x\": [0.0, 0.0, 0.0, 0.0, 0.0017513134516775608, 0.017513135448098183, 0.03677758201956749, 0.050788089632987976, 0.061295971274375916, 0.0753064826130867, 0.09106829762458801, 0.31348511576652527, 0.3520140051841736], \"y\": [\"Adj Close\", \"Neutral\", \"Objectivity\", \"Quarter\", \"Low\", \"High\", \"Month\", \"Subjectivity\", \"Negative\", \"Positive\", \"Volume\", \"Open\", \"Close\"], \"type\": \"bar\", \"uid\": \"90ecfe0a-c4c5-11e8-afff-abf58a8e7b69\"}], {\"yaxis\": {\"showgrid\": false, \"showline\": false, \"showticklabels\": true}, \"title\": \"Barplot of Feature importances for XGBoost\", \"width\": 1000, \"height\": 1000}, {\"showLink\": true, \"linkText\": \"Export to plot.ly\"})});</script>"
      ]
     },
     "metadata": {},
     "output_type": "display_data"
    }
   ],
   "source": [
    "features = df.drop(['Label', \"Date\"],axis=1).columns.values\n",
    "\n",
    "\n",
    "x, y = (list(x) for x in zip(*sorted(zip(models[\"XGBoost\"].feature_importances_, features), \n",
    "\n",
    "                                     reverse = False)))\n",
    "ply.init_notebook_mode(connected=True)\n",
    "\n",
    "trace2 = go.Bar(\n",
    "    x=x ,\n",
    "    y=y,\n",
    "    marker=dict(\n",
    "        color=x,\n",
    "        colorscale = 'Viridis',\n",
    "        reversescale = True\n",
    "    ),\n",
    "    name='Feature importance for XGBoost',\n",
    "    orientation='h',\n",
    ")\n",
    "\n",
    "layout = dict(\n",
    "    title='Barplot of Feature importances for XGBoost',\n",
    "     width = 1000, height = 1000,\n",
    "    yaxis=dict(\n",
    "        showgrid=False,\n",
    "        showline=False,\n",
    "        showticklabels=True,\n",
    "#         domain=[0, 0.85],\n",
    "    ))\n",
    "\n",
    "fig1 = go.Figure(data=[trace2])\n",
    "fig1['layout'].update(layout)\n",
    "ply.iplot(fig1, filename='plots')"
   ]
  },
  {
   "cell_type": "code",
   "execution_count": 16,
   "metadata": {},
   "outputs": [
    {
     "data": {
      "application/vnd.plotly.v1+json": {
       "data": [
        {
         "marker": {
          "color": [
           0.020864987082788434,
           0.0445414605096515,
           0.05261906619693919,
           0.05505253828888296,
           0.05607529816769098,
           0.0678265559395731,
           0.07331206997124624,
           0.08315620922566792,
           0.0930066637566735,
           0.10461989241549499,
           0.10598554742305963,
           0.1117033062504811,
           0.13123640477185036
          ],
          "colorscale": "Viridis",
          "reversescale": true
         },
         "name": "Feature importance for Random Forests",
         "orientation": "h",
         "type": "bar",
         "uid": "9104e8ee-c4c5-11e8-afff-abf58a8e7b69",
         "x": [
          0.020864987082788434,
          0.0445414605096515,
          0.05261906619693919,
          0.05505253828888296,
          0.05607529816769098,
          0.0678265559395731,
          0.07331206997124624,
          0.08315620922566792,
          0.0930066637566735,
          0.10461989241549499,
          0.10598554742305963,
          0.1117033062504811,
          0.13123640477185036
         ],
         "y": [
          "Quarter",
          "Month",
          "Neutral",
          "Objectivity",
          "Subjectivity",
          "Positive",
          "Negative",
          "Low",
          "High",
          "Close",
          "Adj Close",
          "Volume",
          "Open"
         ]
        }
       ],
       "layout": {
        "height": 1000,
        "title": "Barplot of Feature importances for Random Forests",
        "width": 1000,
        "yaxis": {
         "showgrid": false,
         "showline": false,
         "showticklabels": true
        }
       }
      },
      "text/html": [
       "<div id=\"12ec6293-5e2e-42f7-afde-f8f23416a5f0\" style=\"height: 1000px; width: 1000px;\" class=\"plotly-graph-div\"></div><script type=\"text/javascript\">require([\"plotly\"], function(Plotly) { window.PLOTLYENV=window.PLOTLYENV || {};window.PLOTLYENV.BASE_URL=\"https://plot.ly\";Plotly.newPlot(\"12ec6293-5e2e-42f7-afde-f8f23416a5f0\", [{\"marker\": {\"color\": [0.020864987082788434, 0.0445414605096515, 0.05261906619693919, 0.05505253828888296, 0.05607529816769098, 0.0678265559395731, 0.07331206997124624, 0.08315620922566792, 0.0930066637566735, 0.10461989241549499, 0.10598554742305963, 0.1117033062504811, 0.13123640477185036], \"colorscale\": \"Viridis\", \"reversescale\": true}, \"name\": \"Feature importance for Random Forests\", \"orientation\": \"h\", \"x\": [0.020864987082788434, 0.0445414605096515, 0.05261906619693919, 0.05505253828888296, 0.05607529816769098, 0.0678265559395731, 0.07331206997124624, 0.08315620922566792, 0.0930066637566735, 0.10461989241549499, 0.10598554742305963, 0.1117033062504811, 0.13123640477185036], \"y\": [\"Quarter\", \"Month\", \"Neutral\", \"Objectivity\", \"Subjectivity\", \"Positive\", \"Negative\", \"Low\", \"High\", \"Close\", \"Adj Close\", \"Volume\", \"Open\"], \"type\": \"bar\", \"uid\": \"9104e8ee-c4c5-11e8-afff-abf58a8e7b69\"}], {\"yaxis\": {\"showgrid\": false, \"showline\": false, \"showticklabels\": true}, \"title\": \"Barplot of Feature importances for Random Forests\", \"width\": 1000, \"height\": 1000}, {\"showLink\": true, \"linkText\": \"Export to plot.ly\"})});</script>"
      ],
      "text/vnd.plotly.v1+html": [
       "<div id=\"12ec6293-5e2e-42f7-afde-f8f23416a5f0\" style=\"height: 1000px; width: 1000px;\" class=\"plotly-graph-div\"></div><script type=\"text/javascript\">require([\"plotly\"], function(Plotly) { window.PLOTLYENV=window.PLOTLYENV || {};window.PLOTLYENV.BASE_URL=\"https://plot.ly\";Plotly.newPlot(\"12ec6293-5e2e-42f7-afde-f8f23416a5f0\", [{\"marker\": {\"color\": [0.020864987082788434, 0.0445414605096515, 0.05261906619693919, 0.05505253828888296, 0.05607529816769098, 0.0678265559395731, 0.07331206997124624, 0.08315620922566792, 0.0930066637566735, 0.10461989241549499, 0.10598554742305963, 0.1117033062504811, 0.13123640477185036], \"colorscale\": \"Viridis\", \"reversescale\": true}, \"name\": \"Feature importance for Random Forests\", \"orientation\": \"h\", \"x\": [0.020864987082788434, 0.0445414605096515, 0.05261906619693919, 0.05505253828888296, 0.05607529816769098, 0.0678265559395731, 0.07331206997124624, 0.08315620922566792, 0.0930066637566735, 0.10461989241549499, 0.10598554742305963, 0.1117033062504811, 0.13123640477185036], \"y\": [\"Quarter\", \"Month\", \"Neutral\", \"Objectivity\", \"Subjectivity\", \"Positive\", \"Negative\", \"Low\", \"High\", \"Close\", \"Adj Close\", \"Volume\", \"Open\"], \"type\": \"bar\", \"uid\": \"9104e8ee-c4c5-11e8-afff-abf58a8e7b69\"}], {\"yaxis\": {\"showgrid\": false, \"showline\": false, \"showticklabels\": true}, \"title\": \"Barplot of Feature importances for Random Forests\", \"width\": 1000, \"height\": 1000}, {\"showLink\": true, \"linkText\": \"Export to plot.ly\"})});</script>"
      ]
     },
     "metadata": {},
     "output_type": "display_data"
    }
   ],
   "source": [
    "x, y = (list(x) for x in zip(*sorted(zip(models[\"RF\"].feature_importances_, features), \n",
    "                                                            reverse = False)))\n",
    "trace2 = go.Bar(\n",
    "    x=x ,\n",
    "    y=y,\n",
    "    marker=dict(\n",
    "        color=x,\n",
    "        colorscale = 'Viridis',\n",
    "        reversescale = True\n",
    "    ),\n",
    "    name='Feature importance for Random Forests',\n",
    "    orientation='h',\n",
    ")\n",
    "\n",
    "layout = dict(\n",
    "    title='Barplot of Feature importances for Random Forests',\n",
    "     width = 1000, height = 1000,\n",
    "    yaxis=dict(\n",
    "        showgrid=False,\n",
    "        showline=False,\n",
    "        showticklabels=True,\n",
    "#         domain=[0, 0.85],\n",
    "    ))\n",
    "\n",
    "fig1 = go.Figure(data=[trace2])\n",
    "fig1['layout'].update(layout)\n",
    "ply.iplot(fig1, filename='plots')"
   ]
  }
 ],
 "metadata": {
  "kernelspec": {
   "display_name": "Python [conda env:test]",
   "language": "python",
   "name": "conda-env-test-py"
  },
  "language_info": {
   "codemirror_mode": {
    "name": "ipython",
    "version": 3
   },
   "file_extension": ".py",
   "mimetype": "text/x-python",
   "name": "python",
   "nbconvert_exporter": "python",
   "pygments_lexer": "ipython3",
   "version": "3.6.6"
  }
 },
 "nbformat": 4,
 "nbformat_minor": 2
}
